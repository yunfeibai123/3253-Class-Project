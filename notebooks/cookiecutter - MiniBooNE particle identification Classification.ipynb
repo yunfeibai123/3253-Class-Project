{
 "cells": [
  {
   "cell_type": "code",
   "execution_count": 1,
   "metadata": {},
   "outputs": [],
   "source": [
    "%load_ext autoreload\n",
    "%autoreload 2\n",
    "from src.import_file import *"
   ]
  },
  {
   "cell_type": "markdown",
   "metadata": {},
   "source": [
    "# Loading data and data cleaning"
   ]
  },
  {
   "cell_type": "code",
   "execution_count": 2,
   "metadata": {},
   "outputs": [
    {
     "data": {
      "text/html": [
       "<div>\n",
       "<style scoped>\n",
       "    .dataframe tbody tr th:only-of-type {\n",
       "        vertical-align: middle;\n",
       "    }\n",
       "\n",
       "    .dataframe tbody tr th {\n",
       "        vertical-align: top;\n",
       "    }\n",
       "\n",
       "    .dataframe thead th {\n",
       "        text-align: right;\n",
       "    }\n",
       "</style>\n",
       "<table border=\"1\" class=\"dataframe\">\n",
       "  <thead>\n",
       "    <tr style=\"text-align: right;\">\n",
       "      <th></th>\n",
       "      <th>F_0</th>\n",
       "      <th>F_1</th>\n",
       "      <th>F_2</th>\n",
       "      <th>F_3</th>\n",
       "      <th>F_4</th>\n",
       "      <th>F_5</th>\n",
       "      <th>F_6</th>\n",
       "      <th>F_7</th>\n",
       "      <th>F_8</th>\n",
       "      <th>F_9</th>\n",
       "      <th>...</th>\n",
       "      <th>F_40</th>\n",
       "      <th>F_41</th>\n",
       "      <th>F_42</th>\n",
       "      <th>F_43</th>\n",
       "      <th>F_44</th>\n",
       "      <th>F_45</th>\n",
       "      <th>F_46</th>\n",
       "      <th>F_47</th>\n",
       "      <th>F_48</th>\n",
       "      <th>F_49</th>\n",
       "    </tr>\n",
       "  </thead>\n",
       "  <tbody>\n",
       "    <tr>\n",
       "      <th>0</th>\n",
       "      <td>2.59413</td>\n",
       "      <td>0.468803</td>\n",
       "      <td>20.6916</td>\n",
       "      <td>0.322648</td>\n",
       "      <td>0.009682</td>\n",
       "      <td>0.374393</td>\n",
       "      <td>0.803479</td>\n",
       "      <td>0.896592</td>\n",
       "      <td>3.59665</td>\n",
       "      <td>0.249282</td>\n",
       "      <td>...</td>\n",
       "      <td>101.174</td>\n",
       "      <td>-31.3730</td>\n",
       "      <td>0.442259</td>\n",
       "      <td>5.86453</td>\n",
       "      <td>0.000000</td>\n",
       "      <td>0.090519</td>\n",
       "      <td>0.176909</td>\n",
       "      <td>0.457585</td>\n",
       "      <td>0.071769</td>\n",
       "      <td>0.245996</td>\n",
       "    </tr>\n",
       "    <tr>\n",
       "      <th>1</th>\n",
       "      <td>3.86388</td>\n",
       "      <td>0.645781</td>\n",
       "      <td>18.1375</td>\n",
       "      <td>0.233529</td>\n",
       "      <td>0.030733</td>\n",
       "      <td>0.361239</td>\n",
       "      <td>1.069740</td>\n",
       "      <td>0.878714</td>\n",
       "      <td>3.59243</td>\n",
       "      <td>0.200793</td>\n",
       "      <td>...</td>\n",
       "      <td>186.516</td>\n",
       "      <td>45.9597</td>\n",
       "      <td>-0.478507</td>\n",
       "      <td>6.11126</td>\n",
       "      <td>0.001182</td>\n",
       "      <td>0.091800</td>\n",
       "      <td>-0.465572</td>\n",
       "      <td>0.935523</td>\n",
       "      <td>0.333613</td>\n",
       "      <td>0.230621</td>\n",
       "    </tr>\n",
       "    <tr>\n",
       "      <th>2</th>\n",
       "      <td>3.38584</td>\n",
       "      <td>1.197140</td>\n",
       "      <td>36.0807</td>\n",
       "      <td>0.200866</td>\n",
       "      <td>0.017341</td>\n",
       "      <td>0.260841</td>\n",
       "      <td>1.108950</td>\n",
       "      <td>0.884405</td>\n",
       "      <td>3.43159</td>\n",
       "      <td>0.177167</td>\n",
       "      <td>...</td>\n",
       "      <td>129.931</td>\n",
       "      <td>-11.5608</td>\n",
       "      <td>-0.297008</td>\n",
       "      <td>8.27204</td>\n",
       "      <td>0.003854</td>\n",
       "      <td>0.141721</td>\n",
       "      <td>-0.210559</td>\n",
       "      <td>1.013450</td>\n",
       "      <td>0.255512</td>\n",
       "      <td>0.180901</td>\n",
       "    </tr>\n",
       "    <tr>\n",
       "      <th>3</th>\n",
       "      <td>4.28524</td>\n",
       "      <td>0.510155</td>\n",
       "      <td>674.2010</td>\n",
       "      <td>0.281923</td>\n",
       "      <td>0.009174</td>\n",
       "      <td>0.000000</td>\n",
       "      <td>0.998822</td>\n",
       "      <td>0.823390</td>\n",
       "      <td>3.16382</td>\n",
       "      <td>0.171678</td>\n",
       "      <td>...</td>\n",
       "      <td>163.978</td>\n",
       "      <td>-18.4586</td>\n",
       "      <td>0.453886</td>\n",
       "      <td>2.48112</td>\n",
       "      <td>0.000000</td>\n",
       "      <td>0.180938</td>\n",
       "      <td>0.407968</td>\n",
       "      <td>4.341270</td>\n",
       "      <td>0.473081</td>\n",
       "      <td>0.258990</td>\n",
       "    </tr>\n",
       "    <tr>\n",
       "      <th>4</th>\n",
       "      <td>5.93662</td>\n",
       "      <td>0.832993</td>\n",
       "      <td>59.8796</td>\n",
       "      <td>0.232853</td>\n",
       "      <td>0.025066</td>\n",
       "      <td>0.233556</td>\n",
       "      <td>1.370040</td>\n",
       "      <td>0.787424</td>\n",
       "      <td>3.66546</td>\n",
       "      <td>0.174862</td>\n",
       "      <td>...</td>\n",
       "      <td>229.555</td>\n",
       "      <td>42.9600</td>\n",
       "      <td>-0.975752</td>\n",
       "      <td>2.66109</td>\n",
       "      <td>0.000000</td>\n",
       "      <td>0.170836</td>\n",
       "      <td>-0.814403</td>\n",
       "      <td>4.679490</td>\n",
       "      <td>1.924990</td>\n",
       "      <td>0.253893</td>\n",
       "    </tr>\n",
       "  </tbody>\n",
       "</table>\n",
       "<p>5 rows × 50 columns</p>\n",
       "</div>"
      ],
      "text/plain": [
       "       F_0       F_1       F_2       F_3       F_4       F_5       F_6  \\\n",
       "0  2.59413  0.468803   20.6916  0.322648  0.009682  0.374393  0.803479   \n",
       "1  3.86388  0.645781   18.1375  0.233529  0.030733  0.361239  1.069740   \n",
       "2  3.38584  1.197140   36.0807  0.200866  0.017341  0.260841  1.108950   \n",
       "3  4.28524  0.510155  674.2010  0.281923  0.009174  0.000000  0.998822   \n",
       "4  5.93662  0.832993   59.8796  0.232853  0.025066  0.233556  1.370040   \n",
       "\n",
       "        F_7      F_8       F_9    ...        F_40     F_41      F_42     F_43  \\\n",
       "0  0.896592  3.59665  0.249282    ...     101.174 -31.3730  0.442259  5.86453   \n",
       "1  0.878714  3.59243  0.200793    ...     186.516  45.9597 -0.478507  6.11126   \n",
       "2  0.884405  3.43159  0.177167    ...     129.931 -11.5608 -0.297008  8.27204   \n",
       "3  0.823390  3.16382  0.171678    ...     163.978 -18.4586  0.453886  2.48112   \n",
       "4  0.787424  3.66546  0.174862    ...     229.555  42.9600 -0.975752  2.66109   \n",
       "\n",
       "       F_44      F_45      F_46      F_47      F_48      F_49  \n",
       "0  0.000000  0.090519  0.176909  0.457585  0.071769  0.245996  \n",
       "1  0.001182  0.091800 -0.465572  0.935523  0.333613  0.230621  \n",
       "2  0.003854  0.141721 -0.210559  1.013450  0.255512  0.180901  \n",
       "3  0.000000  0.180938  0.407968  4.341270  0.473081  0.258990  \n",
       "4  0.000000  0.170836 -0.814403  4.679490  1.924990  0.253893  \n",
       "\n",
       "[5 rows x 50 columns]"
      ]
     },
     "execution_count": 2,
     "metadata": {},
     "output_type": "execute_result"
    }
   ],
   "source": [
    "# load data, skip first row and auto assign dummy col_name\n",
    "data=pd.read_table('../data/raw/MiniBooNE_PID.txt', header=None,skiprows=1, prefix='F_',sep='\\s+')\n",
    "data.head()"
   ]
  },
  {
   "cell_type": "code",
   "execution_count": 3,
   "metadata": {},
   "outputs": [
    {
     "data": {
      "text/plain": [
       "False"
      ]
     },
     "execution_count": 3,
     "metadata": {},
     "output_type": "execute_result"
    }
   ],
   "source": [
    "# check if have any null value\n",
    "data.isnull().values.any()"
   ]
  },
  {
   "cell_type": "code",
   "execution_count": 4,
   "metadata": {},
   "outputs": [],
   "source": [
    "# Assign label 1 to signal events and 0 to background events, before shuffle the instance\n",
    "data['T']=0\n",
    "data.loc[:36498,'T']=1"
   ]
  },
  {
   "cell_type": "code",
   "execution_count": 5,
   "metadata": {},
   "outputs": [
    {
     "data": {
      "text/html": [
       "<div>\n",
       "<style scoped>\n",
       "    .dataframe tbody tr th:only-of-type {\n",
       "        vertical-align: middle;\n",
       "    }\n",
       "\n",
       "    .dataframe tbody tr th {\n",
       "        vertical-align: top;\n",
       "    }\n",
       "\n",
       "    .dataframe thead th {\n",
       "        text-align: right;\n",
       "    }\n",
       "</style>\n",
       "<table border=\"1\" class=\"dataframe\">\n",
       "  <thead>\n",
       "    <tr style=\"text-align: right;\">\n",
       "      <th></th>\n",
       "      <th>F_0</th>\n",
       "      <th>F_1</th>\n",
       "      <th>F_2</th>\n",
       "      <th>F_3</th>\n",
       "      <th>F_4</th>\n",
       "      <th>F_5</th>\n",
       "      <th>F_6</th>\n",
       "      <th>F_7</th>\n",
       "      <th>F_8</th>\n",
       "      <th>F_9</th>\n",
       "      <th>...</th>\n",
       "      <th>F_41</th>\n",
       "      <th>F_42</th>\n",
       "      <th>F_43</th>\n",
       "      <th>F_44</th>\n",
       "      <th>F_45</th>\n",
       "      <th>F_46</th>\n",
       "      <th>F_47</th>\n",
       "      <th>F_48</th>\n",
       "      <th>F_49</th>\n",
       "      <th>T</th>\n",
       "    </tr>\n",
       "  </thead>\n",
       "  <tbody>\n",
       "    <tr>\n",
       "      <th>count</th>\n",
       "      <td>130064.000000</td>\n",
       "      <td>130064.000000</td>\n",
       "      <td>130064.000000</td>\n",
       "      <td>130064.000000</td>\n",
       "      <td>130064.000000</td>\n",
       "      <td>130064.000000</td>\n",
       "      <td>130064.000000</td>\n",
       "      <td>130064.000000</td>\n",
       "      <td>130064.000000</td>\n",
       "      <td>130064.000000</td>\n",
       "      <td>...</td>\n",
       "      <td>130064.000000</td>\n",
       "      <td>130064.000000</td>\n",
       "      <td>130064.000000</td>\n",
       "      <td>130064.000000</td>\n",
       "      <td>130064.000000</td>\n",
       "      <td>130064.000000</td>\n",
       "      <td>130064.000000</td>\n",
       "      <td>130064.000000</td>\n",
       "      <td>130064.000000</td>\n",
       "      <td>130064.000000</td>\n",
       "    </tr>\n",
       "    <tr>\n",
       "      <th>mean</th>\n",
       "      <td>1.251799</td>\n",
       "      <td>-2.107551</td>\n",
       "      <td>123.795041</td>\n",
       "      <td>-3.312518</td>\n",
       "      <td>-3.585353</td>\n",
       "      <td>-3.434412</td>\n",
       "      <td>-2.627901</td>\n",
       "      <td>-2.773691</td>\n",
       "      <td>-0.155680</td>\n",
       "      <td>-3.421357</td>\n",
       "      <td>...</td>\n",
       "      <td>-25.225963</td>\n",
       "      <td>-2.863924</td>\n",
       "      <td>2.393149</td>\n",
       "      <td>-3.585605</td>\n",
       "      <td>-3.416491</td>\n",
       "      <td>-3.753232</td>\n",
       "      <td>-0.744964</td>\n",
       "      <td>-1.987056</td>\n",
       "      <td>-3.364752</td>\n",
       "      <td>0.280623</td>\n",
       "    </tr>\n",
       "    <tr>\n",
       "      <th>std</th>\n",
       "      <td>60.119987</td>\n",
       "      <td>59.913094</td>\n",
       "      <td>196.010686</td>\n",
       "      <td>59.834554</td>\n",
       "      <td>59.818130</td>\n",
       "      <td>59.827325</td>\n",
       "      <td>59.876644</td>\n",
       "      <td>59.866946</td>\n",
       "      <td>60.024786</td>\n",
       "      <td>59.828000</td>\n",
       "      <td>...</td>\n",
       "      <td>67.576409</td>\n",
       "      <td>59.873958</td>\n",
       "      <td>60.349468</td>\n",
       "      <td>59.818121</td>\n",
       "      <td>59.828330</td>\n",
       "      <td>59.816001</td>\n",
       "      <td>60.019330</td>\n",
       "      <td>59.946144</td>\n",
       "      <td>59.831409</td>\n",
       "      <td>0.449306</td>\n",
       "    </tr>\n",
       "    <tr>\n",
       "      <th>min</th>\n",
       "      <td>-999.000000</td>\n",
       "      <td>-999.000000</td>\n",
       "      <td>-999.000000</td>\n",
       "      <td>-999.000000</td>\n",
       "      <td>-999.000000</td>\n",
       "      <td>-999.000000</td>\n",
       "      <td>-999.000000</td>\n",
       "      <td>-999.000000</td>\n",
       "      <td>-999.000000</td>\n",
       "      <td>-999.000000</td>\n",
       "      <td>...</td>\n",
       "      <td>-999.000000</td>\n",
       "      <td>-999.000000</td>\n",
       "      <td>-999.000000</td>\n",
       "      <td>-999.000000</td>\n",
       "      <td>-999.000000</td>\n",
       "      <td>-999.000000</td>\n",
       "      <td>-999.000000</td>\n",
       "      <td>-999.000000</td>\n",
       "      <td>-999.000000</td>\n",
       "      <td>0.000000</td>\n",
       "    </tr>\n",
       "    <tr>\n",
       "      <th>25%</th>\n",
       "      <td>4.012528</td>\n",
       "      <td>0.876346</td>\n",
       "      <td>49.295075</td>\n",
       "      <td>0.241571</td>\n",
       "      <td>0.000000</td>\n",
       "      <td>0.085307</td>\n",
       "      <td>0.715269</td>\n",
       "      <td>0.783392</td>\n",
       "      <td>3.284817</td>\n",
       "      <td>0.142853</td>\n",
       "      <td>...</td>\n",
       "      <td>-40.068250</td>\n",
       "      <td>-0.028108</td>\n",
       "      <td>3.413030</td>\n",
       "      <td>0.000000</td>\n",
       "      <td>0.121963</td>\n",
       "      <td>-0.342814</td>\n",
       "      <td>1.420265</td>\n",
       "      <td>0.274271</td>\n",
       "      <td>0.197322</td>\n",
       "      <td>0.000000</td>\n",
       "    </tr>\n",
       "    <tr>\n",
       "      <th>50%</th>\n",
       "      <td>4.787715</td>\n",
       "      <td>1.381965</td>\n",
       "      <td>106.135500</td>\n",
       "      <td>0.272089</td>\n",
       "      <td>0.004975</td>\n",
       "      <td>0.141175</td>\n",
       "      <td>0.922700</td>\n",
       "      <td>0.833937</td>\n",
       "      <td>3.426990</td>\n",
       "      <td>0.170561</td>\n",
       "      <td>...</td>\n",
       "      <td>-21.591600</td>\n",
       "      <td>0.459050</td>\n",
       "      <td>4.762385</td>\n",
       "      <td>0.000000</td>\n",
       "      <td>0.168528</td>\n",
       "      <td>0.041723</td>\n",
       "      <td>2.364455</td>\n",
       "      <td>1.123760</td>\n",
       "      <td>0.231328</td>\n",
       "      <td>0.000000</td>\n",
       "    </tr>\n",
       "    <tr>\n",
       "      <th>75%</th>\n",
       "      <td>5.628298</td>\n",
       "      <td>1.947870</td>\n",
       "      <td>138.849250</td>\n",
       "      <td>0.315095</td>\n",
       "      <td>0.013136</td>\n",
       "      <td>0.212879</td>\n",
       "      <td>1.180252</td>\n",
       "      <td>0.874198</td>\n",
       "      <td>3.585462</td>\n",
       "      <td>0.199982</td>\n",
       "      <td>...</td>\n",
       "      <td>-3.330192</td>\n",
       "      <td>1.150463</td>\n",
       "      <td>6.857450</td>\n",
       "      <td>0.001984</td>\n",
       "      <td>0.224737</td>\n",
       "      <td>0.294544</td>\n",
       "      <td>3.777613</td>\n",
       "      <td>2.281242</td>\n",
       "      <td>0.263201</td>\n",
       "      <td>1.000000</td>\n",
       "    </tr>\n",
       "    <tr>\n",
       "      <th>max</th>\n",
       "      <td>17.057300</td>\n",
       "      <td>8.802820</td>\n",
       "      <td>4747.670000</td>\n",
       "      <td>0.736804</td>\n",
       "      <td>0.179012</td>\n",
       "      <td>0.703859</td>\n",
       "      <td>6.241080</td>\n",
       "      <td>0.989713</td>\n",
       "      <td>7.170170</td>\n",
       "      <td>0.524888</td>\n",
       "      <td>...</td>\n",
       "      <td>161.298000</td>\n",
       "      <td>43.651200</td>\n",
       "      <td>85.823100</td>\n",
       "      <td>0.446914</td>\n",
       "      <td>0.605667</td>\n",
       "      <td>1.932890</td>\n",
       "      <td>21.768200</td>\n",
       "      <td>25.423300</td>\n",
       "      <td>0.625484</td>\n",
       "      <td>1.000000</td>\n",
       "    </tr>\n",
       "  </tbody>\n",
       "</table>\n",
       "<p>8 rows × 51 columns</p>\n",
       "</div>"
      ],
      "text/plain": [
       "                 F_0            F_1            F_2            F_3  \\\n",
       "count  130064.000000  130064.000000  130064.000000  130064.000000   \n",
       "mean        1.251799      -2.107551     123.795041      -3.312518   \n",
       "std        60.119987      59.913094     196.010686      59.834554   \n",
       "min      -999.000000    -999.000000    -999.000000    -999.000000   \n",
       "25%         4.012528       0.876346      49.295075       0.241571   \n",
       "50%         4.787715       1.381965     106.135500       0.272089   \n",
       "75%         5.628298       1.947870     138.849250       0.315095   \n",
       "max        17.057300       8.802820    4747.670000       0.736804   \n",
       "\n",
       "                 F_4            F_5            F_6            F_7  \\\n",
       "count  130064.000000  130064.000000  130064.000000  130064.000000   \n",
       "mean       -3.585353      -3.434412      -2.627901      -2.773691   \n",
       "std        59.818130      59.827325      59.876644      59.866946   \n",
       "min      -999.000000    -999.000000    -999.000000    -999.000000   \n",
       "25%         0.000000       0.085307       0.715269       0.783392   \n",
       "50%         0.004975       0.141175       0.922700       0.833937   \n",
       "75%         0.013136       0.212879       1.180252       0.874198   \n",
       "max         0.179012       0.703859       6.241080       0.989713   \n",
       "\n",
       "                 F_8            F_9      ...                 F_41  \\\n",
       "count  130064.000000  130064.000000      ...        130064.000000   \n",
       "mean       -0.155680      -3.421357      ...           -25.225963   \n",
       "std        60.024786      59.828000      ...            67.576409   \n",
       "min      -999.000000    -999.000000      ...          -999.000000   \n",
       "25%         3.284817       0.142853      ...           -40.068250   \n",
       "50%         3.426990       0.170561      ...           -21.591600   \n",
       "75%         3.585462       0.199982      ...            -3.330192   \n",
       "max         7.170170       0.524888      ...           161.298000   \n",
       "\n",
       "                F_42           F_43           F_44           F_45  \\\n",
       "count  130064.000000  130064.000000  130064.000000  130064.000000   \n",
       "mean       -2.863924       2.393149      -3.585605      -3.416491   \n",
       "std        59.873958      60.349468      59.818121      59.828330   \n",
       "min      -999.000000    -999.000000    -999.000000    -999.000000   \n",
       "25%        -0.028108       3.413030       0.000000       0.121963   \n",
       "50%         0.459050       4.762385       0.000000       0.168528   \n",
       "75%         1.150463       6.857450       0.001984       0.224737   \n",
       "max        43.651200      85.823100       0.446914       0.605667   \n",
       "\n",
       "                F_46           F_47           F_48           F_49  \\\n",
       "count  130064.000000  130064.000000  130064.000000  130064.000000   \n",
       "mean       -3.753232      -0.744964      -1.987056      -3.364752   \n",
       "std        59.816001      60.019330      59.946144      59.831409   \n",
       "min      -999.000000    -999.000000    -999.000000    -999.000000   \n",
       "25%        -0.342814       1.420265       0.274271       0.197322   \n",
       "50%         0.041723       2.364455       1.123760       0.231328   \n",
       "75%         0.294544       3.777613       2.281242       0.263201   \n",
       "max         1.932890      21.768200      25.423300       0.625484   \n",
       "\n",
       "                   T  \n",
       "count  130064.000000  \n",
       "mean        0.280623  \n",
       "std         0.449306  \n",
       "min         0.000000  \n",
       "25%         0.000000  \n",
       "50%         0.000000  \n",
       "75%         1.000000  \n",
       "max         1.000000  \n",
       "\n",
       "[8 rows x 51 columns]"
      ]
     },
     "execution_count": 5,
     "metadata": {},
     "output_type": "execute_result"
    }
   ],
   "source": [
    "data.describe()"
   ]
  },
  {
   "cell_type": "markdown",
   "metadata": {},
   "source": [
    "<pre>After check the summary of the data, I found it is very strange to have a minimum value of -999 for all the features. In fact, when you inspect the data, you would find those are coming from the same instances/records. For example, there are instances have all the values equal to -999 for all 50 features.These cases spread across all the dataset among both two categories. so it doesn't make any sense to include them into our classification job, since it will make no help to identify any of the category since all the feature values of those instance are -999 for both categories. Moreover, it makes it very diffcult to scale features to reasonable values since most feature values are only around 0 to 10. If we don't move those records, the -999 will drag values of these features almost all the same across the dataset after min-max scaling, dragging those values all to 1.  In total, there are 468 rows and I decided to drop them from the dataset for this task."
   ]
  },
  {
   "cell_type": "code",
   "execution_count": 6,
   "metadata": {},
   "outputs": [],
   "source": [
    "drop_idx=data[data['F_0']==-999].index\n",
    "df=data.drop(drop_idx)"
   ]
  },
  {
   "cell_type": "code",
   "execution_count": 7,
   "metadata": {},
   "outputs": [
    {
     "data": {
      "text/html": [
       "<div>\n",
       "<style scoped>\n",
       "    .dataframe tbody tr th:only-of-type {\n",
       "        vertical-align: middle;\n",
       "    }\n",
       "\n",
       "    .dataframe tbody tr th {\n",
       "        vertical-align: top;\n",
       "    }\n",
       "\n",
       "    .dataframe thead th {\n",
       "        text-align: right;\n",
       "    }\n",
       "</style>\n",
       "<table border=\"1\" class=\"dataframe\">\n",
       "  <thead>\n",
       "    <tr style=\"text-align: right;\">\n",
       "      <th></th>\n",
       "      <th>F_0</th>\n",
       "      <th>F_1</th>\n",
       "      <th>F_2</th>\n",
       "      <th>F_3</th>\n",
       "      <th>F_4</th>\n",
       "      <th>F_5</th>\n",
       "      <th>F_6</th>\n",
       "      <th>F_7</th>\n",
       "      <th>F_8</th>\n",
       "      <th>F_9</th>\n",
       "      <th>...</th>\n",
       "      <th>F_41</th>\n",
       "      <th>F_42</th>\n",
       "      <th>F_43</th>\n",
       "      <th>F_44</th>\n",
       "      <th>F_45</th>\n",
       "      <th>F_46</th>\n",
       "      <th>F_47</th>\n",
       "      <th>F_48</th>\n",
       "      <th>F_49</th>\n",
       "      <th>T</th>\n",
       "    </tr>\n",
       "  </thead>\n",
       "  <tbody>\n",
       "    <tr>\n",
       "      <th>count</th>\n",
       "      <td>129596.000000</td>\n",
       "      <td>129596.000000</td>\n",
       "      <td>129596.000000</td>\n",
       "      <td>129596.000000</td>\n",
       "      <td>129596.000000</td>\n",
       "      <td>129596.000000</td>\n",
       "      <td>129596.000000</td>\n",
       "      <td>129596.000000</td>\n",
       "      <td>129596.000000</td>\n",
       "      <td>129596.000000</td>\n",
       "      <td>...</td>\n",
       "      <td>129596.000000</td>\n",
       "      <td>129596.000000</td>\n",
       "      <td>129596.000000</td>\n",
       "      <td>129596.000000</td>\n",
       "      <td>129596.000000</td>\n",
       "      <td>129596.000000</td>\n",
       "      <td>129596.000000</td>\n",
       "      <td>129596.000000</td>\n",
       "      <td>129596.000000</td>\n",
       "      <td>129596.000000</td>\n",
       "    </tr>\n",
       "    <tr>\n",
       "      <th>mean</th>\n",
       "      <td>4.863931</td>\n",
       "      <td>1.492450</td>\n",
       "      <td>127.849703</td>\n",
       "      <td>0.283131</td>\n",
       "      <td>0.009311</td>\n",
       "      <td>0.160797</td>\n",
       "      <td>0.970221</td>\n",
       "      <td>0.823904</td>\n",
       "      <td>3.451369</td>\n",
       "      <td>0.173899</td>\n",
       "      <td>...</td>\n",
       "      <td>-21.709448</td>\n",
       "      <td>0.733346</td>\n",
       "      <td>6.009403</td>\n",
       "      <td>0.009058</td>\n",
       "      <td>0.178782</td>\n",
       "      <td>-0.159174</td>\n",
       "      <td>2.859957</td>\n",
       "      <td>1.613380</td>\n",
       "      <td>0.230708</td>\n",
       "      <td>0.281552</td>\n",
       "    </tr>\n",
       "    <tr>\n",
       "      <th>std</th>\n",
       "      <td>1.161277</td>\n",
       "      <td>0.860538</td>\n",
       "      <td>184.363509</td>\n",
       "      <td>0.059554</td>\n",
       "      <td>0.012493</td>\n",
       "      <td>0.122911</td>\n",
       "      <td>0.342953</td>\n",
       "      <td>0.070467</td>\n",
       "      <td>0.258654</td>\n",
       "      <td>0.043707</td>\n",
       "      <td>...</td>\n",
       "      <td>33.858218</td>\n",
       "      <td>1.224392</td>\n",
       "      <td>4.562213</td>\n",
       "      <td>0.029533</td>\n",
       "      <td>0.080407</td>\n",
       "      <td>0.977600</td>\n",
       "      <td>1.917000</td>\n",
       "      <td>1.960976</td>\n",
       "      <td>0.052818</td>\n",
       "      <td>0.449758</td>\n",
       "    </tr>\n",
       "    <tr>\n",
       "      <th>min</th>\n",
       "      <td>0.000000</td>\n",
       "      <td>0.059691</td>\n",
       "      <td>0.012381</td>\n",
       "      <td>0.104697</td>\n",
       "      <td>-0.156118</td>\n",
       "      <td>0.000000</td>\n",
       "      <td>0.000000</td>\n",
       "      <td>0.033510</td>\n",
       "      <td>2.375270</td>\n",
       "      <td>0.033432</td>\n",
       "      <td>...</td>\n",
       "      <td>-387.617000</td>\n",
       "      <td>-1.686500</td>\n",
       "      <td>0.249186</td>\n",
       "      <td>0.000000</td>\n",
       "      <td>0.000000</td>\n",
       "      <td>-32.109800</td>\n",
       "      <td>-13.492200</td>\n",
       "      <td>-15.997800</td>\n",
       "      <td>0.000000</td>\n",
       "      <td>0.000000</td>\n",
       "    </tr>\n",
       "    <tr>\n",
       "      <th>25%</th>\n",
       "      <td>4.021948</td>\n",
       "      <td>0.882372</td>\n",
       "      <td>49.978850</td>\n",
       "      <td>0.241901</td>\n",
       "      <td>0.001245</td>\n",
       "      <td>0.086348</td>\n",
       "      <td>0.717548</td>\n",
       "      <td>0.783985</td>\n",
       "      <td>3.286500</td>\n",
       "      <td>0.143172</td>\n",
       "      <td>...</td>\n",
       "      <td>-39.847675</td>\n",
       "      <td>-0.022607</td>\n",
       "      <td>3.428092</td>\n",
       "      <td>0.000000</td>\n",
       "      <td>0.122498</td>\n",
       "      <td>-0.336228</td>\n",
       "      <td>1.430775</td>\n",
       "      <td>0.281640</td>\n",
       "      <td>0.197748</td>\n",
       "      <td>0.000000</td>\n",
       "    </tr>\n",
       "    <tr>\n",
       "      <th>50%</th>\n",
       "      <td>4.793385</td>\n",
       "      <td>1.385640</td>\n",
       "      <td>106.423000</td>\n",
       "      <td>0.272313</td>\n",
       "      <td>0.005013</td>\n",
       "      <td>0.141468</td>\n",
       "      <td>0.924166</td>\n",
       "      <td>0.834244</td>\n",
       "      <td>3.427935</td>\n",
       "      <td>0.170756</td>\n",
       "      <td>...</td>\n",
       "      <td>-21.456250</td>\n",
       "      <td>0.462485</td>\n",
       "      <td>4.772420</td>\n",
       "      <td>0.000000</td>\n",
       "      <td>0.168887</td>\n",
       "      <td>0.043698</td>\n",
       "      <td>2.372290</td>\n",
       "      <td>1.130715</td>\n",
       "      <td>0.231553</td>\n",
       "      <td>0.000000</td>\n",
       "    </tr>\n",
       "    <tr>\n",
       "      <th>75%</th>\n",
       "      <td>5.632045</td>\n",
       "      <td>1.950260</td>\n",
       "      <td>138.994000</td>\n",
       "      <td>0.315312</td>\n",
       "      <td>0.013183</td>\n",
       "      <td>0.213450</td>\n",
       "      <td>1.181228</td>\n",
       "      <td>0.874354</td>\n",
       "      <td>3.586220</td>\n",
       "      <td>0.200121</td>\n",
       "      <td>...</td>\n",
       "      <td>-3.254285</td>\n",
       "      <td>1.153780</td>\n",
       "      <td>6.869710</td>\n",
       "      <td>0.002000</td>\n",
       "      <td>0.224994</td>\n",
       "      <td>0.295472</td>\n",
       "      <td>3.784865</td>\n",
       "      <td>2.286112</td>\n",
       "      <td>0.263353</td>\n",
       "      <td>1.000000</td>\n",
       "    </tr>\n",
       "    <tr>\n",
       "      <th>max</th>\n",
       "      <td>17.057300</td>\n",
       "      <td>8.802820</td>\n",
       "      <td>4747.670000</td>\n",
       "      <td>0.736804</td>\n",
       "      <td>0.179012</td>\n",
       "      <td>0.703859</td>\n",
       "      <td>6.241080</td>\n",
       "      <td>0.989713</td>\n",
       "      <td>7.170170</td>\n",
       "      <td>0.524888</td>\n",
       "      <td>...</td>\n",
       "      <td>161.298000</td>\n",
       "      <td>43.651200</td>\n",
       "      <td>85.823100</td>\n",
       "      <td>0.446914</td>\n",
       "      <td>0.605667</td>\n",
       "      <td>1.932890</td>\n",
       "      <td>21.768200</td>\n",
       "      <td>25.423300</td>\n",
       "      <td>0.625484</td>\n",
       "      <td>1.000000</td>\n",
       "    </tr>\n",
       "  </tbody>\n",
       "</table>\n",
       "<p>8 rows × 51 columns</p>\n",
       "</div>"
      ],
      "text/plain": [
       "                 F_0            F_1            F_2            F_3  \\\n",
       "count  129596.000000  129596.000000  129596.000000  129596.000000   \n",
       "mean        4.863931       1.492450     127.849703       0.283131   \n",
       "std         1.161277       0.860538     184.363509       0.059554   \n",
       "min         0.000000       0.059691       0.012381       0.104697   \n",
       "25%         4.021948       0.882372      49.978850       0.241901   \n",
       "50%         4.793385       1.385640     106.423000       0.272313   \n",
       "75%         5.632045       1.950260     138.994000       0.315312   \n",
       "max        17.057300       8.802820    4747.670000       0.736804   \n",
       "\n",
       "                 F_4            F_5            F_6            F_7  \\\n",
       "count  129596.000000  129596.000000  129596.000000  129596.000000   \n",
       "mean        0.009311       0.160797       0.970221       0.823904   \n",
       "std         0.012493       0.122911       0.342953       0.070467   \n",
       "min        -0.156118       0.000000       0.000000       0.033510   \n",
       "25%         0.001245       0.086348       0.717548       0.783985   \n",
       "50%         0.005013       0.141468       0.924166       0.834244   \n",
       "75%         0.013183       0.213450       1.181228       0.874354   \n",
       "max         0.179012       0.703859       6.241080       0.989713   \n",
       "\n",
       "                 F_8            F_9      ...                 F_41  \\\n",
       "count  129596.000000  129596.000000      ...        129596.000000   \n",
       "mean        3.451369       0.173899      ...           -21.709448   \n",
       "std         0.258654       0.043707      ...            33.858218   \n",
       "min         2.375270       0.033432      ...          -387.617000   \n",
       "25%         3.286500       0.143172      ...           -39.847675   \n",
       "50%         3.427935       0.170756      ...           -21.456250   \n",
       "75%         3.586220       0.200121      ...            -3.254285   \n",
       "max         7.170170       0.524888      ...           161.298000   \n",
       "\n",
       "                F_42           F_43           F_44           F_45  \\\n",
       "count  129596.000000  129596.000000  129596.000000  129596.000000   \n",
       "mean        0.733346       6.009403       0.009058       0.178782   \n",
       "std         1.224392       4.562213       0.029533       0.080407   \n",
       "min        -1.686500       0.249186       0.000000       0.000000   \n",
       "25%        -0.022607       3.428092       0.000000       0.122498   \n",
       "50%         0.462485       4.772420       0.000000       0.168887   \n",
       "75%         1.153780       6.869710       0.002000       0.224994   \n",
       "max        43.651200      85.823100       0.446914       0.605667   \n",
       "\n",
       "                F_46           F_47           F_48           F_49  \\\n",
       "count  129596.000000  129596.000000  129596.000000  129596.000000   \n",
       "mean       -0.159174       2.859957       1.613380       0.230708   \n",
       "std         0.977600       1.917000       1.960976       0.052818   \n",
       "min       -32.109800     -13.492200     -15.997800       0.000000   \n",
       "25%        -0.336228       1.430775       0.281640       0.197748   \n",
       "50%         0.043698       2.372290       1.130715       0.231553   \n",
       "75%         0.295472       3.784865       2.286112       0.263353   \n",
       "max         1.932890      21.768200      25.423300       0.625484   \n",
       "\n",
       "                   T  \n",
       "count  129596.000000  \n",
       "mean        0.281552  \n",
       "std         0.449758  \n",
       "min         0.000000  \n",
       "25%         0.000000  \n",
       "50%         0.000000  \n",
       "75%         1.000000  \n",
       "max         1.000000  \n",
       "\n",
       "[8 rows x 51 columns]"
      ]
     },
     "execution_count": 7,
     "metadata": {},
     "output_type": "execute_result"
    }
   ],
   "source": [
    "df.describe()\n",
    "# no min as -999 any more, great!"
   ]
  },
  {
   "cell_type": "code",
   "execution_count": 8,
   "metadata": {},
   "outputs": [],
   "source": [
    "# Shuffle the data and split into training and testing sets\n",
    "df_shuffle=df.reindex(np.random.permutation(df.index)).reset_index().drop('index',axis=1)"
   ]
  },
  {
   "cell_type": "code",
   "execution_count": 9,
   "metadata": {},
   "outputs": [],
   "source": [
    "x_train, x_test, y_train, y_test= train_test_split(df_shuffle.drop('T',axis=1), df_shuffle['T'],test_size=0.2, random_state=123)"
   ]
  },
  {
   "cell_type": "markdown",
   "metadata": {},
   "source": [
    "# Building fine-tuned Random Forest model"
   ]
  },
  {
   "cell_type": "code",
   "execution_count": 10,
   "metadata": {},
   "outputs": [],
   "source": [
    "# Standardization the data Feed the data into RF and Tune the RF\n",
    "trans_pipeline = Pipeline(steps=[\n",
    "        (\"StandardScaler\", StandardScaler()),\n",
    "    ])\n",
    "x_train_prepared=trans_pipeline.fit_transform(x_train)\n",
    "x_test_prepared=trans_pipeline.transform(x_test)\n",
    "\n"
   ]
  },
  {
   "cell_type": "code",
   "execution_count": 11,
   "metadata": {},
   "outputs": [
    {
     "data": {
      "text/plain": [
       "GridSearchCV(cv=3, error_score='raise-deprecating',\n",
       "       estimator=DecisionTreeClassifier(class_weight=None, criterion='gini', max_depth=None,\n",
       "            max_features=None, max_leaf_nodes=16,\n",
       "            min_impurity_decrease=0.0, min_impurity_split=None,\n",
       "            min_samples_leaf=1, min_samples_split=2,\n",
       "            min_weight_fraction_leaf=0.0, presort=False, random_state=None,\n",
       "            splitter='best'),\n",
       "       fit_params=None, iid='warn', n_jobs=-1,\n",
       "       param_grid=[{'criterion': ['gini', 'entropy']}],\n",
       "       pre_dispatch='2*n_jobs', refit=True, return_train_score='warn',\n",
       "       scoring='accuracy', verbose=0)"
      ]
     },
     "execution_count": 11,
     "metadata": {},
     "output_type": "execute_result"
    }
   ],
   "source": [
    "# Search for the best parameter for RF\n",
    "# Search for best crierion\n",
    "param_grid=[\n",
    "    {'criterion': ['gini','entropy']}    \n",
    "]\n",
    "criterion_search=GridSearchCV(DecisionTreeClassifier(max_leaf_nodes=16),param_grid,scoring='accuracy',n_jobs=-1,cv=3)\n",
    "criterion_search.fit(x_train_prepared,y_train)"
   ]
  },
  {
   "cell_type": "code",
   "execution_count": 12,
   "metadata": {},
   "outputs": [
    {
     "data": {
      "image/png": "[encoded data removed]",
      "text/plain": [
       "<Figure size 432x288 with 1 Axes>"
      ]
     },
     "metadata": {
      "needs_background": "light"
     },
     "output_type": "display_data"
    }
   ],
   "source": [
    "score_parameter_plot(criterion_search.cv_results_,'criterion','Bar Plot gini/entropy for Desicion Tree',0.8,0.95)  "
   ]
  },
  {
   "cell_type": "code",
   "execution_count": 13,
   "metadata": {},
   "outputs": [
    {
     "data": {
      "text/plain": [
       "GridSearchCV(cv=3, error_score='raise-deprecating',\n",
       "       estimator=DecisionTreeClassifier(class_weight=None, criterion='gini', max_depth=None,\n",
       "            max_features=None, max_leaf_nodes=None,\n",
       "            min_impurity_decrease=0.0, min_impurity_split=None,\n",
       "            min_samples_leaf=1, min_samples_split=2,\n",
       "            min_weight_fraction_leaf=0.0, presort=False, random_state=None,\n",
       "            splitter='best'),\n",
       "       fit_params=None, iid='warn', n_jobs=-1,\n",
       "       param_grid=[{'max_depth': [7, 8, 9, 10, 11, 12, 13]}],\n",
       "       pre_dispatch='2*n_jobs', refit=True, return_train_score='warn',\n",
       "       scoring='accuracy', verbose=0)"
      ]
     },
     "execution_count": 13,
     "metadata": {},
     "output_type": "execute_result"
    }
   ],
   "source": [
    "# search for max_depth\n",
    "param_grid=[\n",
    "    {'max_depth': [7,8,9,10,11,12,13]}    \n",
    "]\n",
    "max_depth_search=GridSearchCV(DecisionTreeClassifier(criterion='gini'),param_grid,scoring='accuracy',n_jobs=-1,cv=3)\n",
    "max_depth_search.fit(x_train_prepared,y_train)"
   ]
  },
  {
   "cell_type": "code",
   "execution_count": 14,
   "metadata": {
    "scrolled": false
   },
   "outputs": [
    {
     "data": {
      "image/png": "[encoded data removed]",
      "text/plain": [
       "<Figure size 432x288 with 1 Axes>"
      ]
     },
     "metadata": {
      "needs_background": "light"
     },
     "output_type": "display_data"
    }
   ],
   "source": [
    "score_parameter_plot(max_depth_search.cv_results_,'max_depth','Bar Plot different max_depths for Desicion Tree',0.88,0.92)    "
   ]
  },
  {
   "cell_type": "code",
   "execution_count": 242,
   "metadata": {},
   "outputs": [
    {
     "data": {
      "text/plain": [
       "GridSearchCV(cv=3, error_score='raise-deprecating',\n",
       "       estimator=DecisionTreeClassifier(class_weight=None, criterion='gini', max_depth=None,\n",
       "            max_features=None, max_leaf_nodes=None,\n",
       "            min_impurity_decrease=0.0, min_impurity_split=None,\n",
       "            min_samples_leaf=1, min_samples_split=2,\n",
       "            min_weight_fraction_leaf=0.0, presort=False, random_state=None,\n",
       "            splitter='best'),\n",
       "       fit_params=None, iid='warn', n_jobs=-1,\n",
       "       param_grid=[{'min_samples_split': [50, 100, 200, 250]}],\n",
       "       pre_dispatch='2*n_jobs', refit=True, return_train_score='warn',\n",
       "       scoring='accuracy', verbose=0)"
      ]
     },
     "execution_count": 242,
     "metadata": {},
     "output_type": "execute_result"
    }
   ],
   "source": [
    "# search for min_samples_split\n",
    "param_grid=[\n",
    "    {'min_samples_split': [50,100,200,250]}    \n",
    "]\n",
    "min_samples_split_search=GridSearchCV(DecisionTreeClassifier(),param_grid,scoring='accuracy',n_jobs=-1,cv=3)\n",
    "min_samples_split_search.fit(x_train_prepared,y_train)"
   ]
  },
  {
   "cell_type": "code",
   "execution_count": 243,
   "metadata": {},
   "outputs": [
    {
     "data": {
      "image/png": "[encoded data removed]",
      "text/plain": [
       "<Figure size 432x288 with 1 Axes>"
      ]
     },
     "metadata": {
      "needs_background": "light"
     },
     "output_type": "display_data"
    }
   ],
   "source": [
    "score_parameter_plot(min_samples_split_search.cv_results_,'min_samples_split','Bar Plot different min_samples_split for Desicion Tree',0.88,0.92)"
   ]
  },
  {
   "cell_type": "code",
   "execution_count": 251,
   "metadata": {},
   "outputs": [
    {
     "data": {
      "text/plain": [
       "GridSearchCV(cv=3, error_score='raise-deprecating',\n",
       "       estimator=DecisionTreeClassifier(class_weight=None, criterion='gini', max_depth=None,\n",
       "            max_features=None, max_leaf_nodes=None,\n",
       "            min_impurity_decrease=0.0, min_impurity_split=None,\n",
       "            min_samples_leaf=1, min_samples_split=2,\n",
       "            min_weight_fraction_leaf=0.0, presort=False, random_state=None,\n",
       "            splitter='best'),\n",
       "       fit_params=None, iid='warn', n_jobs=-1,\n",
       "       param_grid=[{'min_samples_leaf': [30, 40, 50, 60]}],\n",
       "       pre_dispatch='2*n_jobs', refit=True, return_train_score='warn',\n",
       "       scoring='accuracy', verbose=0)"
      ]
     },
     "execution_count": 251,
     "metadata": {},
     "output_type": "execute_result"
    }
   ],
   "source": [
    "# Search min_samples_leaf\n",
    "param_grid=[\n",
    "    {'min_samples_leaf': [30,40,50,60]}    \n",
    "]\n",
    "min_samples_leaf_search=GridSearchCV(DecisionTreeClassifier(),param_grid,scoring='accuracy',n_jobs=-1,cv=3)\n",
    "min_samples_leaf_search.fit(x_train_prepared,y_train)"
   ]
  },
  {
   "cell_type": "code",
   "execution_count": 252,
   "metadata": {},
   "outputs": [
    {
     "data": {
      "image/png": "[encoded data removed]",
      "text/plain": [
       "<Figure size 432x288 with 1 Axes>"
      ]
     },
     "metadata": {
      "needs_background": "light"
     },
     "output_type": "display_data"
    }
   ],
   "source": [
    "score_parameter_plot(min_samples_leaf_search.cv_results_,'min_samples_leaf','Bar Plot different min_samples_leaf for Desicion Tree',0.9,0.91)    "
   ]
  },
  {
   "cell_type": "code",
   "execution_count": 271,
   "metadata": {},
   "outputs": [
    {
     "data": {
      "text/plain": [
       "GridSearchCV(cv=3, error_score='raise-deprecating',\n",
       "       estimator=DecisionTreeClassifier(class_weight=None, criterion='gini', max_depth=None,\n",
       "            max_features=None, max_leaf_nodes=None,\n",
       "            min_impurity_decrease=0.0, min_impurity_split=None,\n",
       "            min_samples_leaf=1, min_samples_split=2,\n",
       "            min_weight_fraction_leaf=0.0, presort=False, random_state=None,\n",
       "            splitter='best'),\n",
       "       fit_params=None, iid='warn', n_jobs=-1,\n",
       "       param_grid=[{'max_leaf_nodes': [200, 250, 300, 350, 400, 450]}],\n",
       "       pre_dispatch='2*n_jobs', refit=True, return_train_score='warn',\n",
       "       scoring='accuracy', verbose=0)"
      ]
     },
     "execution_count": 271,
     "metadata": {},
     "output_type": "execute_result"
    }
   ],
   "source": [
    " # max_leaf_nodes\n",
    "param_grid=[\n",
    "    {'max_leaf_nodes': [200,250,300,350,400,450]}    \n",
    "]\n",
    "max_leaf_nodes_search=GridSearchCV(DecisionTreeClassifier(),param_grid,scoring='accuracy',n_jobs=-1,cv=3)\n",
    "max_leaf_nodes_search.fit(x_train_prepared,y_train)"
   ]
  },
  {
   "cell_type": "code",
   "execution_count": 272,
   "metadata": {},
   "outputs": [
    {
     "data": {
      "image/png": "[encoded data removed]",
      "text/plain": [
       "<Figure size 432x288 with 1 Axes>"
      ]
     },
     "metadata": {
      "needs_background": "light"
     },
     "output_type": "display_data"
    }
   ],
   "source": [
    "score_parameter_plot(max_leaf_nodes_search.cv_results_,'max_leaf_nodes','Bar Plot different max_leaf_nodes for Desicion Tree',0.908,0.915)    "
   ]
  },
  {
   "cell_type": "code",
   "execution_count": 282,
   "metadata": {
    "scrolled": true
   },
   "outputs": [
    {
     "data": {
      "text/plain": [
       "GridSearchCV(cv=3, error_score='raise-deprecating',\n",
       "       estimator=RandomForestClassifier(bootstrap=True, class_weight=None, criterion='gini',\n",
       "            max_depth=None, max_features='auto', max_leaf_nodes=None,\n",
       "            min_impurity_decrease=0.0, min_impurity_split=None,\n",
       "            min_samples_leaf=1, min_samples_split=2,\n",
       "            min_weight_fraction_leaf=0.0, n_estimators='warn', n_jobs=None,\n",
       "            oob_score=False, random_state=None, verbose=0,\n",
       "            warm_start=False),\n",
       "       fit_params=None, iid='warn', n_jobs=-1,\n",
       "       param_grid=[{'n_estimators': [200, 400, 600]}],\n",
       "       pre_dispatch='2*n_jobs', refit=True, return_train_score='warn',\n",
       "       scoring='accuracy', verbose=0)"
      ]
     },
     "execution_count": 282,
     "metadata": {},
     "output_type": "execute_result"
    }
   ],
   "source": [
    "# Search for n_estimator\n",
    "param_grid=[{\n",
    "    'n_estimators': [200,400,600],\n",
    "}]\n",
    "rf_n_estimator_search_=GridSearchCV(RandomForestClassifier(),param_grid,scoring='accuracy',n_jobs=-1,cv=3)\n",
    "rf_n_estimator_search_.fit(x_train_prepared,y_train)"
   ]
  },
  {
   "cell_type": "code",
   "execution_count": 284,
   "metadata": {},
   "outputs": [
    {
     "data": {
      "image/png": "[encoded data removed]",
      "text/plain": [
       "<Figure size 432x288 with 1 Axes>"
      ]
     },
     "metadata": {
      "needs_background": "light"
     },
     "output_type": "display_data"
    }
   ],
   "source": [
    "score_parameter_plot(rf_n_estimator_search_.cv_results_,'n_estimators','Bar Plot different n_estimator for RF',0.934,0.936)"
   ]
  },
  {
   "cell_type": "code",
   "execution_count": 336,
   "metadata": {},
   "outputs": [
    {
     "name": "stdout",
     "output_type": "stream",
     "text": [
      "{'max_leaf_nodes': 350, 'min_samples_leaf': 30, 'min_samples_split': 50, 'n_estimators': 100}\n",
      "0.9242833442648251\n"
     ]
    }
   ],
   "source": [
    "# Tuning Random forest classfier\n",
    "param_grid=[{\n",
    "    'n_estimators': [50,100,200],\n",
    "    'min_samples_split': [50,100,200],\n",
    "    'min_samples_leaf': [30,50,70],\n",
    "    'max_leaf_nodes': [150,250,350]    \n",
    "}]\n",
    "rf_clf=GridSearchCV(RandomForestClassifier(),param_grid,scoring='accuracy',n_jobs=-1,cv=3)\n",
    "rf_clf.fit(x_train_prepared,y_train)\n",
    "print(rf_clf.best_params_) \n",
    "print(rf_clf.best_score_) "
   ]
  },
  {
   "cell_type": "code",
   "execution_count": 345,
   "metadata": {},
   "outputs": [
    {
     "data": {
      "text/plain": [
       "0.9217978395061729"
      ]
     },
     "execution_count": 345,
     "metadata": {},
     "output_type": "execute_result"
    }
   ],
   "source": [
    "rf_fine_tuned=rf_clf.best_estimator_ \n",
    "y_test_pred=rf_fine_tuned.predict(x_test_prepared)\n",
    "accuracy_score(y_test,y_test_pred)"
   ]
  },
  {
   "cell_type": "markdown",
   "metadata": {},
   "source": [
    "# Building DNN"
   ]
  },
  {
   "cell_type": "code",
   "execution_count": 15,
   "metadata": {},
   "outputs": [],
   "source": [
    "# normalization the data and feed the data into DNN\n",
    "trans_pipeline = Pipeline(steps=[\n",
    "        (\"MinMaxScaler\", MinMaxScaler()),\n",
    "    ])\n",
    "x_train_prepared=trans_pipeline.fit_transform(x_train)\n",
    "x_test_prepared=trans_pipeline.transform(x_test)\n",
    "y_train_prepared=y_train.values\n",
    "y_test_prepared=y_test.values"
   ]
  },
  {
   "cell_type": "code",
   "execution_count": 16,
   "metadata": {},
   "outputs": [
    {
     "name": "stdout",
     "output_type": "stream",
     "text": [
      "WARNING:tensorflow:From C:\\Users\\yunfebai\\AppData\\Local\\Continuum\\anaconda3\\lib\\site-packages\\tensorflow\\python\\ops\\resource_variable_ops.py:435: colocate_with (from tensorflow.python.framework.ops) is deprecated and will be removed in a future version.\n",
      "Instructions for updating:\n",
      "Colocations handled automatically by placer.\n"
     ]
    }
   ],
   "source": [
    "model = tf.keras.models.Sequential([\n",
    "  tf.keras.layers.Dense(300, activation='relu'),\n",
    "  tf.keras.layers.Dense(100, activation='relu'),\n",
    "  tf.keras.layers.Dense(2, activation='softmax')\n",
    "])\n",
    "\n",
    "model.compile(optimizer='adam',\n",
    "              loss='sparse_categorical_crossentropy',\n",
    "              metrics=['accuracy'])"
   ]
  },
  {
   "cell_type": "code",
   "execution_count": 17,
   "metadata": {},
   "outputs": [
    {
     "name": "stdout",
     "output_type": "stream",
     "text": [
      "Epoch 1/5\n",
      "103676/103676 [==============================] - 79s 762us/sample - loss: 0.2275 - acc: 0.9086\n",
      "Epoch 2/5\n",
      "103676/103676 [==============================] - 98s 944us/sample - loss: 0.1848 - acc: 0.9254\n",
      "Epoch 3/5\n",
      "103676/103676 [==============================] - 98s 949us/sample - loss: 0.1739 - acc: 0.9290 - loss: 0.1739 - acc: 0.92\n",
      "Epoch 4/5\n",
      "103676/103676 [==============================] - 74s 712us/sample - loss: 0.1666 - acc: 0.9323\n",
      "Epoch 5/5\n",
      "103676/103676 [==============================] - 69s 665us/sample - loss: 0.1633 - acc: 0.9332\n",
      "25920/25920 [==============================] - 6s 250us/sample - loss: 0.1692 - acc: 0.9316\n"
     ]
    },
    {
     "data": {
      "text/plain": [
       "[0.1692223530837599, 0.93155867]"
      ]
     },
     "execution_count": 17,
     "metadata": {},
     "output_type": "execute_result"
    }
   ],
   "source": [
    "model.fit(x_train_prepared, y_train_prepared, epochs=5)\n",
    "model.evaluate(x_test_prepared, y_test_prepared)"
   ]
  },
  {
   "cell_type": "markdown",
   "metadata": {},
   "source": [
    "# Summary"
   ]
  },
  {
   "cell_type": "code",
   "execution_count": null,
   "metadata": {},
   "outputs": [],
   "source": [
    "# Compare the performance of DNN with the Fine Tuned Random Forest."
   ]
  },
  {
   "cell_type": "markdown",
   "metadata": {},
   "source": [
    "<pre>In summary, a well tuned RF model gives a very high score of 0.9217978395061729.\n",
    "In a very simple deep neural network of two hidden layers, first with 300 LTUs and second with 100 LTUs, with 5 epochs training process, we have a pretty good model slightly beat RF model, with the score of 0.93155867. \n"
   ]
  }
 ],
 "metadata": {
  "kernelspec": {
   "display_name": "Python 3",
   "language": "python",
   "name": "python3"
  },
  "language_info": {
   "codemirror_mode": {
    "name": "ipython",
    "version": 3
   },
   "file_extension": ".py",
   "mimetype": "text/x-python",
   "name": "python",
   "nbconvert_exporter": "python",
   "pygments_lexer": "ipython3",
   "version": "3.7.0"
  }
 },
 "nbformat": 4,
 "nbformat_minor": 2
}
